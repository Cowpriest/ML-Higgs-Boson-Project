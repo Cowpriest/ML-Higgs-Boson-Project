{
 "cells": [
  {
   "cell_type": "code",
   "execution_count": null,
   "id": "a45dbb16-d709-41eb-9f37-9742a624c8bd",
   "metadata": {},
   "outputs": [],
   "source": [
    "# 1. Imports\n",
    "import pandas as pd\n",
    "import numpy as np\n",
    "from sklearn.model_selection import train_test_split, cross_val_score\n",
    "from sklearn.linear_model import LogisticRegression\n",
    "from sklearn.metrics import roc_auc_score\n",
    "from tensorflow.keras.models import Sequential\n",
    "from tensorflow.keras.layers import Dense\n",
    "from tensorflow.keras.optimizers import Adam\n",
    "\n",
    "# 2. Load & split\n",
    "df = pd.read_csv('data/HIGGS.csv', header=None)\n",
    "X, y = df.iloc[:,1:].values, df.iloc[:,0].values\n",
    "X_train, X_temp, y_train, y_temp = train_test_split(X, y, test_size=0.3, random_state=42)\n",
    "X_val, X_test, y_val, y_test = train_test_split(X_temp, y_temp, test_size=0.5, random_state=42)\n",
    "\n",
    "# 3. Baseline logistic regression\n",
    "lr = LogisticRegression(max_iter=500, n_jobs=-1)\n",
    "lr.fit(X_train[:100000], y_train[:100000])  # sub-sample for speed\n",
    "y_pred_lr = lr.predict_proba(X_test[:10000])[:,1]\n",
    "print('Logistic AUC:', roc_auc_score(y_test[:10000], y_pred_lr))\n",
    "\n",
    "# 4. Small Keras ANN\n",
    "model = Sequential([\n",
    "    Dense(64, activation='relu', input_shape=(X_train.shape[1],)),\n",
    "    Dense(32, activation='relu'),\n",
    "    Dense(1, activation='sigmoid')\n",
    "])\n",
    "model.compile(optimizer=Adam(1e-3), loss='binary_crossentropy', metrics=['AUC'])\n",
    "model.fit(X_train[:50000], y_train[:50000],\n",
    "          validation_data=(X_val[:10000], y_val[:10000]),\n",
    "          epochs=20, batch_size=1024)\n",
    "print('ANN AUC:', model.evaluate(X_test[:10000], y_test[:10000])[1])\n"
   ]
  }
 ],
 "metadata": {
  "kernelspec": {
   "display_name": "Python 3 (ipykernel)",
   "language": "python",
   "name": "python3"
  },
  "language_info": {
   "codemirror_mode": {
    "name": "ipython",
    "version": 3
   },
   "file_extension": ".py",
   "mimetype": "text/x-python",
   "name": "python",
   "nbconvert_exporter": "python",
   "pygments_lexer": "ipython3",
   "version": "3.13.2"
  }
 },
 "nbformat": 4,
 "nbformat_minor": 5
}
