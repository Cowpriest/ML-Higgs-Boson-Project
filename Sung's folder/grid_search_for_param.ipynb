version https://git-lfs.github.com/spec/v1
oid sha256:fb37f66939ae497d035aee934b4e82f3774451df178840a2f9532a8812afeec6
size 31201
